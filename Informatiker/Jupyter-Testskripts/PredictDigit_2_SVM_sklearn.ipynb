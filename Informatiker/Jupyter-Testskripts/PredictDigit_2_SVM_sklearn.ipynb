{
 "cells": [
  {
   "cell_type": "markdown",
   "metadata": {},
   "source": [
    "Da es bei der SVM-Variante von OpenCV nicht möglich war W'keiten auszugeben. Wurde hier mit der Variante von scikit-learn versucht eine bessere Lösung zu findnen. Jedoch haben wir auch hier keine andere Option gefunden und bleiben deshalb bei der Variante von OpenCV."
   ]
  },
  {
   "cell_type": "code",
   "execution_count": 1,
   "metadata": {},
   "outputs": [],
   "source": [
    "import cv2 as cv\n",
    "import numpy as np\n",
    "from numpy.linalg import norm\n",
    "import matplotlib.pyplot as plt\n",
    "import time\n",
    "from sklearn import svm\n",
    "\n",
    "SZ=20\n",
    "bin_n = 16 # Number of bins\n",
    "\n",
    "Path = 'D:\\Schule\\PREN\\Bilder'\n",
    "TrainingImg = '\\digits.png'\n",
    "TestImg = '\\ZahlenSchwarzAufWeiss.jpg'\n",
    "\n",
    "affine_flags = cv.WARP_INVERSE_MAP|cv.INTER_LINEAR\n",
    "\n",
    "## [deskew]\n",
    "def deskew(img):\n",
    "    m = cv.moments(img)\n",
    "    if abs(m['mu02']) < 1e-2:\n",
    "        return img.copy()\n",
    "    skew = m['mu11']/m['mu02']\n",
    "    M = np.float32([[1, skew, -0.5*SZ*skew], [0, 1, 0]])\n",
    "    img = cv.warpAffine(img,M,(SZ, SZ),flags=affine_flags)\n",
    "    return img\n",
    "## [deskew]\n",
    "\n",
    "## [hog]\n",
    "def hog(img):\n",
    "    gx = cv.Sobel(img, cv.CV_32F, 1, 0)\n",
    "    gy = cv.Sobel(img, cv.CV_32F, 0, 1)\n",
    "    mag, ang = cv.cartToPolar(gx, gy)\n",
    "    bins = np.int32(bin_n*ang/(2*np.pi))    # quantizing binvalues in (0...16)\n",
    "    bin_cells = bins[:10,:10], bins[10:,:10], bins[:10,10:], bins[10:,10:]\n",
    "    mag_cells = mag[:10,:10], mag[10:,:10], mag[:10,10:], mag[10:,10:]\n",
    "    hists = [np.bincount(b.ravel(), m.ravel(), bin_n) for b, m in zip(bin_cells, mag_cells)]\n",
    "    hist = np.hstack(hists)     # hist is a 64 bit vector\n",
    "\n",
    "    # transform to Hellinger kernel\n",
    "    eps = 1e-7\n",
    "    hist /= hist.sum() + eps\n",
    "    hist = np.sqrt(hist)\n",
    "    hist /= norm(hist) + eps\n",
    "    return hist\n",
    "## [hog]\n",
    "\n",
    "img = cv.imread(Path+TrainingImg,0)\n",
    "if img is None:\n",
    "    raise Exception(\"we need the digits.png image from samples/data here !\")\n",
    "\n",
    "img = img\n",
    "cells = [np.hsplit(row,100) for row in np.vsplit(img,50)]\n",
    "\n",
    "# First half is trainData, remaining is testData\n",
    "train_cells = [ i[:50] for i in cells ]\n",
    "test_cells = [ i[50:] for i in cells]"
   ]
  },
  {
   "cell_type": "code",
   "execution_count": 2,
   "metadata": {},
   "outputs": [],
   "source": [
    "######     training Data     ########################\n",
    "\n",
    "deskewed = [list(map(deskew,row)) for row in train_cells]\n",
    "hogdata = [list(map(hog,row)) for row in deskewed]\n",
    "trainData = np.float32(hogdata).reshape(-1,64)\n",
    "responses = np.repeat(np.arange(10),250)[:,np.newaxis]"
   ]
  },
  {
   "cell_type": "code",
   "execution_count": 3,
   "metadata": {},
   "outputs": [
    {
     "name": "stderr",
     "output_type": "stream",
     "text": [
      "C:\\Users\\lucar\\Anaconda3\\lib\\site-packages\\sklearn\\utils\\validation.py:578: DataConversionWarning: A column-vector y was passed when a 1d array was expected. Please change the shape of y to (n_samples, ), for example using ravel().\n",
      "  y = column_or_1d(y, warn=True)\n"
     ]
    },
    {
     "data": {
      "text/plain": [
       "LinearSVC(C=2.67, class_weight=None, dual=True, fit_intercept=True,\n",
       "     intercept_scaling=1, loss='squared_hinge', max_iter=1000,\n",
       "     multi_class='ovr', penalty='l2', random_state=None, tol=0.0001,\n",
       "     verbose=0)"
      ]
     },
     "execution_count": 3,
     "metadata": {},
     "output_type": "execute_result"
    }
   ],
   "source": [
    "######     Now training      ########################\n",
    "\n",
    "clf = svm.LinearSVC(C=2.67)\n",
    "clf.fit(trainData, responses) "
   ]
  },
  {
   "cell_type": "code",
   "execution_count": 4,
   "metadata": {},
   "outputs": [
    {
     "data": {
      "image/png": "[encoded data removed]",
      "text/plain": [
       "<Figure size 432x288 with 1 Axes>"
      ]
     },
     "metadata": {
      "needs_background": "light"
     },
     "output_type": "display_data"
    },
    {
     "name": "stdout",
     "output_type": "stream",
     "text": [
      "[5]\n",
      "[[-1.53118762 -2.65459582 -2.85644018 -2.08305613 -3.07354907  1.02856253\n",
      "  -2.18215911 -3.07853159 -1.33991484 -0.25187276]]\n",
      "31.0\n"
     ]
    }
   ],
   "source": [
    "newimg = cv.imread('images/test_run2/big/imageFromWeb_008.jpg',0)\n",
    "zahl = newimg[235:253,268:285]\n",
    "plt.imshow(zahl,'gray')\n",
    "plt.show()\n",
    "thresh = cv.resize(zahl,(20,20))\n",
    "desk = deskew(thresh)\n",
    "hData = hog(desk)\n",
    "tData = np.float32(hData).reshape(-1,bin_n*4)\n",
    "pred = clf.predict(tData)\n",
    "des = clf.decision_function(tData)\n",
    "print(pred)\n",
    "print(des)\n",
    "print(np.median(thresh[0]))"
   ]
  },
  {
   "cell_type": "code",
   "execution_count": 5,
   "metadata": {},
   "outputs": [
    {
     "data": {
      "image/png": "[encoded data removed]",
      "text/plain": [
       "<Figure size 432x288 with 1 Axes>"
      ]
     },
     "metadata": {
      "needs_background": "light"
     },
     "output_type": "display_data"
    },
    {
     "name": "stdout",
     "output_type": "stream",
     "text": [
      "[4]\n",
      "[[-1.53118762 -2.65459582 -2.85644018 -2.08305613 -3.07354907  1.02856253\n",
      "  -2.18215911 -3.07853159 -1.33991484 -0.25187276]]\n",
      "199.0\n"
     ]
    }
   ],
   "source": [
    "newimg = cv.imread('images/test_run2/big/imageFromWeb_008.jpg',0)\n",
    "zahl = newimg[135:153,168:185]\n",
    "plt.imshow(zahl,'gray')\n",
    "plt.show()\n",
    "thresh = cv.resize(zahl,(20,20))\n",
    "desk = deskew(thresh)\n",
    "hData = hog(desk)\n",
    "tData = np.float32(hData).reshape(-1,bin_n*4)\n",
    "pred = clf.predict(tData)\n",
    "print(pred)\n",
    "print(des)\n",
    "print(np.median(thresh[0]))"
   ]
  }
 ],
 "metadata": {
  "kernelspec": {
   "display_name": "Python 3",
   "language": "python",
   "name": "python3"
  },
  "language_info": {
   "codemirror_mode": {
    "name": "ipython",
    "version": 3
   },
   "file_extension": ".py",
   "mimetype": "text/x-python",
   "name": "python",
   "nbconvert_exporter": "python",
   "pygments_lexer": "ipython3",
   "version": "3.7.0"
  }
 },
 "nbformat": 4,
 "nbformat_minor": 2
}
