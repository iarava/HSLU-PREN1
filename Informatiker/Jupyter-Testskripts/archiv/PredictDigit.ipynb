{
 "cells": [
  {
   "cell_type": "code",
   "execution_count": 1,
   "metadata": {},
   "outputs": [
    {
     "name": "stdout",
     "output_type": "stream",
     "text": [
      "95.92\n"
     ]
    }
   ],
   "source": [
    "import cv2 as cv\n",
    "import numpy as np\n",
    "from numpy.linalg import norm\n",
    "import matplotlib.pyplot as plt\n",
    "import time\n",
    "\n",
    "SZ=20\n",
    "bin_n = 16 # Number of bins\n",
    "\n",
    "Path = 'D:\\Schule\\PREN\\Bilder'\n",
    "TrainingImg = '\\digits.png'\n",
    "TestImg = '\\ZahlenSchwarzAufWeiss.jpg'\n",
    "\n",
    "affine_flags = cv.WARP_INVERSE_MAP|cv.INTER_LINEAR\n",
    "\n",
    "## [deskew]\n",
    "def deskew(img):\n",
    "    m = cv.moments(img)\n",
    "    if abs(m['mu02']) < 1e-2:\n",
    "        return img.copy()\n",
    "    skew = m['mu11']/m['mu02']\n",
    "    M = np.float32([[1, skew, -0.5*SZ*skew], [0, 1, 0]])\n",
    "    img = cv.warpAffine(img,M,(SZ, SZ),flags=affine_flags)\n",
    "    return img\n",
    "## [deskew]\n",
    "\n",
    "## [hog]\n",
    "def hog(img):\n",
    "    gx = cv.Sobel(img, cv.CV_32F, 1, 0)\n",
    "    gy = cv.Sobel(img, cv.CV_32F, 0, 1)\n",
    "    mag, ang = cv.cartToPolar(gx, gy)\n",
    "    bins = np.int32(bin_n*ang/(2*np.pi))    # quantizing binvalues in (0...16)\n",
    "    bin_cells = bins[:10,:10], bins[10:,:10], bins[:10,10:], bins[10:,10:]\n",
    "    mag_cells = mag[:10,:10], mag[10:,:10], mag[:10,10:], mag[10:,10:]\n",
    "    hists = [np.bincount(b.ravel(), m.ravel(), bin_n) for b, m in zip(bin_cells, mag_cells)]\n",
    "    hist = np.hstack(hists)     # hist is a 64 bit vector\n",
    "\n",
    "    # transform to Hellinger kernel\n",
    "    eps = 1e-7\n",
    "    hist /= hist.sum() + eps\n",
    "    hist = np.sqrt(hist)\n",
    "    hist /= norm(hist) + eps\n",
    "    return hist\n",
    "## [hog]\n",
    "\n",
    "img = cv.imread(Path+TrainingImg,0)\n",
    "if img is None:\n",
    "    raise Exception(\"we need the digits.png image from samples/data here !\")\n",
    "\n",
    "img = img\n",
    "cells = [np.hsplit(row,100) for row in np.vsplit(img,50)]\n",
    "\n",
    "# First half is trainData, remaining is testData\n",
    "train_cells = [ i[:50] for i in cells ]\n",
    "test_cells = [ i[50:] for i in cells]\n",
    "\n",
    "######     Now training      ########################\n",
    "\n",
    "deskewed = [list(map(deskew,row)) for row in train_cells]\n",
    "hogdata = [list(map(hog,row)) for row in deskewed]\n",
    "trainData = np.float32(hogdata).reshape(-1,64)\n",
    "responses = np.repeat(np.arange(10),250)[:,np.newaxis]\n",
    "\n",
    "svm = cv.ml.SVM_create()\n",
    "svm.setKernel(cv.ml.SVM_LINEAR)\n",
    "svm.setType(cv.ml.SVM_C_SVC)\n",
    "svm.setC(2.67)\n",
    "svm.setGamma(5.383)\n",
    "\n",
    "svm.train(trainData, cv.ml.ROW_SAMPLE, responses)\n",
    "svm.save('svm_data.dat')\n",
    "\n",
    "######     Now testing      ########################\n",
    "\n",
    "deskewed = [list(map(deskew,row)) for row in test_cells]\n",
    "hogdata = [list(map(hog,row)) for row in deskewed]\n",
    "testData = np.float32(hogdata).reshape(-1,bin_n*4)\n",
    "result = svm.predict(testData)[1]\n",
    "\n",
    "#######   Check Accuracy   ########################\n",
    "mask = result==responses\n",
    "correct = np.count_nonzero(mask)\n",
    "print(correct*100.0/result.size)"
   ]
  },
  {
   "cell_type": "code",
   "execution_count": 4,
   "metadata": {},
   "outputs": [
    {
     "data": {
      "image/png": "[encoded data removed]",
      "text/plain": [
       "<Figure size 432x288 with 1 Axes>"
      ]
     },
     "metadata": {
      "needs_background": "light"
     },
     "output_type": "display_data"
    },
    {
     "name": "stdout",
     "output_type": "stream",
     "text": [
      "[[8.]]\n",
      "0.0578765869140625\n"
     ]
    },
    {
     "data": {
      "image/png": "[encoded data removed]",
      "text/plain": [
       "<Figure size 432x288 with 1 Axes>"
      ]
     },
     "metadata": {
      "needs_background": "light"
     },
     "output_type": "display_data"
    },
    {
     "name": "stdout",
     "output_type": "stream",
     "text": [
      "[[5.]]\n",
      "0.058809518814086914\n"
     ]
    },
    {
     "data": {
      "image/png": "[encoded data removed]",
      "text/plain": [
       "<Figure size 432x288 with 1 Axes>"
      ]
     },
     "metadata": {
      "needs_background": "light"
     },
     "output_type": "display_data"
    },
    {
     "name": "stdout",
     "output_type": "stream",
     "text": [
      "[[5.]]\n",
      "0.06383037567138672\n"
     ]
    },
    {
     "data": {
      "image/png": "[encoded data removed]",
      "text/plain": [
       "<Figure size 432x288 with 1 Axes>"
      ]
     },
     "metadata": {
      "needs_background": "light"
     },
     "output_type": "display_data"
    },
    {
     "name": "stdout",
     "output_type": "stream",
     "text": [
      "[[5.]]\n",
      "0.06482625007629395\n"
     ]
    }
   ],
   "source": [
    "######  Test mit eigenden Bilder ####################\n",
    "starttime = time.time()\n",
    "newimg = cv.imread(Path+TestImg,0)\n",
    "zahl = newimg[100:145, 265:290]\n",
    "plt.imshow(zahl,'gray')\n",
    "plt.show()\n",
    "#zahl = cv.medianBlur(zahl,5)\n",
    "#thresh = cv.adaptiveThreshold(zahl,255,cv.ADAPTIVE_THRESH_MEAN_C, cv.THRESH_BINARY,11,2)\n",
    "#ret,thresh = cv.threshold(zahl,127,255,cv.THRESH_BINARY)\n",
    "#plt.imshow(thresh)\n",
    "thresh = cv.resize(zahl,(20,20))\n",
    "#ret,thresh = cv.threshold(thresh,127,255,cv.THRESH_BINARY)\n",
    "##plt.imshow(thresh)\n",
    "##plt.show()\n",
    "##print(thresh)\n",
    "desk = deskew(thresh)\n",
    "hData = hog(desk)\n",
    "tData = np.float32(hData).reshape(-1,bin_n*4)\n",
    "print(svm.predict(tData)[1])\n",
    "print(time.time()-starttime)\n",
    "\n",
    "starttime = time.time()\n",
    "newimg = cv.imread('images/image2_w640_h480_iso100_exsports.jpg',0)\n",
    "zahl = newimg[130:180,295:345]\n",
    "plt.imshow(zahl,'gray')\n",
    "plt.show()\n",
    "thresh = cv.resize(zahl,(20,20))\n",
    "#desk = deskew(thresh)\n",
    "hData = hog(thresh)\n",
    "tData = np.float32(hData).reshape(-1,bin_n*4)\n",
    "print(svm.predict(tData)[1])\n",
    "print(time.time()-starttime)\n",
    "\n",
    "starttime = time.time()\n",
    "newimg = cv.imread('images/image2_w640_h480_iso100_exsports.jpg',0)\n",
    "zahl = newimg[135:175,300:340]\n",
    "plt.imshow(zahl,'gray')\n",
    "plt.show()\n",
    "thresh = cv.resize(zahl,(20,20))\n",
    "#desk = deskew(thresh)\n",
    "hData = hog(thresh)\n",
    "tData = np.float32(hData).reshape(-1,bin_n*4)\n",
    "print(svm.predict(tData)[1])\n",
    "print(time.time()-starttime)\n",
    "\n",
    "starttime = time.time()\n",
    "newimg = cv.imread('images/test_run2/big/imageFromWeb_008.jpg',0)\n",
    "zahl = newimg[235:253,268:285]\n",
    "plt.imshow(zahl,'gray')\n",
    "plt.show()\n",
    "thresh = cv.resize(zahl,(20,20))\n",
    "#desk = deskew(thresh)\n",
    "hData = hog(thresh)\n",
    "tData = np.float32(hData).reshape(-1,bin_n*4)\n",
    "print(svm.predict(tData)[1])\n",
    "print(time.time()-starttime)"
   ]
  },
  {
   "cell_type": "code",
   "execution_count": null,
   "metadata": {},
   "outputs": [],
   "source": []
  }
 ],
 "metadata": {
  "kernelspec": {
   "display_name": "Python 3",
   "language": "python",
   "name": "python3"
  },
  "language_info": {
   "codemirror_mode": {
    "name": "ipython",
    "version": 3
   },
   "file_extension": ".py",
   "mimetype": "text/x-python",
   "name": "python",
   "nbconvert_exporter": "python",
   "pygments_lexer": "ipython3",
   "version": "3.7.0"
  }
 },
 "nbformat": 4,
 "nbformat_minor": 2
}
